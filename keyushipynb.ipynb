{
  "nbformat": 4,
  "nbformat_minor": 0,
  "metadata": {
    "colab": {
      "provenance": [],
      "authorship_tag": "ABX9TyPKKqvZliz+DOZ/4KaUF2Ea",
      "include_colab_link": true
    },
    "kernelspec": {
      "name": "python3",
      "display_name": "Python 3"
    },
    "language_info": {
      "name": "python"
    }
  },
  "cells": [
    {
      "cell_type": "markdown",
      "metadata": {
        "id": "view-in-github",
        "colab_type": "text"
      },
      "source": [
        "<a href=\"https://colab.research.google.com/github/pritip22/dumbi/blob/main/keyushipynb.ipynb\" target=\"_parent\"><img src=\"https://colab.research.google.com/assets/colab-badge.svg\" alt=\"Open In Colab\"/></a>"
      ]
    },
    {
      "cell_type": "code",
      "execution_count": 1,
      "metadata": {
        "id": "Z4psKlL0wvBs"
      },
      "outputs": [],
      "source": [
        "import pandas as pd"
      ]
    },
    {
      "cell_type": "code",
      "source": [
        "df = pd.read_csv(\"/content/students.csv\")\n",
        "print(df)"
      ],
      "metadata": {
        "colab": {
          "base_uri": "https://localhost:8080/"
        },
        "id": "I6G0JNuiwxgG",
        "outputId": "d34f3710-cd07-465b-e64d-2d0c676176b9"
      },
      "execution_count": 7,
      "outputs": [
        {
          "output_type": "stream",
          "name": "stdout",
          "text": [
            "   Student ID Department   Marks Scholarship   Age\n",
            "0           1         IT    high         Yes  20.0\n",
            "1           2      Comps     low          No  21.0\n",
            "2           3       AIDS  meduim          No  22.0\n",
            "3           4         IT  meduim         Yes   NaN\n",
            "4           5         IT  meduim          No  16.0\n",
            "5           6       AIDS    high         Yes   NaN\n",
            "6           7      Comps    low           No  23.0\n",
            "7           8      Comps    high          No  24.0\n",
            "8           9         IT     NaN         Yes   NaN\n",
            "9          10       AIDS     low         Yes  23.0\n"
          ]
        }
      ]
    },
    {
      "cell_type": "code",
      "source": [
        "# Binning\n",
        "bins = [0,15,25,30]\n",
        "labels = ['agegrp1', 'agegrp2', 'agegrp3']\n",
        "\n",
        "df['Age Category'] = pd.cut(df['Age'] , bins = bins , labels = labels )\n",
        "print(df)"
      ],
      "metadata": {
        "colab": {
          "base_uri": "https://localhost:8080/"
        },
        "id": "5scfZOAuxIUF",
        "outputId": "adaa1577-1252-4f14-9557-8d6fda330908"
      },
      "execution_count": 8,
      "outputs": [
        {
          "output_type": "stream",
          "name": "stdout",
          "text": [
            "   Student ID Department   Marks Scholarship   Age Age Category\n",
            "0           1         IT    high         Yes  20.0      agegrp2\n",
            "1           2      Comps     low          No  21.0      agegrp2\n",
            "2           3       AIDS  meduim          No  22.0      agegrp2\n",
            "3           4         IT  meduim         Yes   NaN          NaN\n",
            "4           5         IT  meduim          No  16.0      agegrp2\n",
            "5           6       AIDS    high         Yes   NaN          NaN\n",
            "6           7      Comps    low           No  23.0      agegrp2\n",
            "7           8      Comps    high          No  24.0      agegrp2\n",
            "8           9         IT     NaN         Yes   NaN          NaN\n",
            "9          10       AIDS     low         Yes  23.0      agegrp2\n"
          ]
        }
      ]
    },
    {
      "cell_type": "code",
      "source": [
        "avg = df['Age'].mean()\n",
        "\n",
        "df['Age'].fillna(avg , inplace = True)\n",
        "print(df)"
      ],
      "metadata": {
        "colab": {
          "base_uri": "https://localhost:8080/"
        },
        "id": "m8H8wVz2xzx1",
        "outputId": "717b527f-df83-4ac4-9c7e-af1b279c2689"
      },
      "execution_count": 9,
      "outputs": [
        {
          "output_type": "stream",
          "name": "stdout",
          "text": [
            "   Student ID Department   Marks Scholarship        Age Age Category\n",
            "0           1         IT    high         Yes  20.000000      agegrp2\n",
            "1           2      Comps     low          No  21.000000      agegrp2\n",
            "2           3       AIDS  meduim          No  22.000000      agegrp2\n",
            "3           4         IT  meduim         Yes  21.285714          NaN\n",
            "4           5         IT  meduim          No  16.000000      agegrp2\n",
            "5           6       AIDS    high         Yes  21.285714          NaN\n",
            "6           7      Comps    low           No  23.000000      agegrp2\n",
            "7           8      Comps    high          No  24.000000      agegrp2\n",
            "8           9         IT     NaN         Yes  21.285714          NaN\n",
            "9          10       AIDS     low         Yes  23.000000      agegrp2\n"
          ]
        }
      ]
    },
    {
      "cell_type": "code",
      "source": [
        "freq = df['Marks'].mode()[0]\n",
        "df['Marks'].fillna( freq , inplace = True)\n",
        "print(df)"
      ],
      "metadata": {
        "colab": {
          "base_uri": "https://localhost:8080/"
        },
        "id": "fFjAKKBYyYkn",
        "outputId": "7d49a873-a71c-4540-c39d-7b08524de5e9"
      },
      "execution_count": 10,
      "outputs": [
        {
          "output_type": "stream",
          "name": "stdout",
          "text": [
            "   Student ID Department   Marks Scholarship        Age Age Category\n",
            "0           1         IT    high         Yes  20.000000      agegrp2\n",
            "1           2      Comps     low          No  21.000000      agegrp2\n",
            "2           3       AIDS  meduim          No  22.000000      agegrp2\n",
            "3           4         IT  meduim         Yes  21.285714          NaN\n",
            "4           5         IT  meduim          No  16.000000      agegrp2\n",
            "5           6       AIDS    high         Yes  21.285714          NaN\n",
            "6           7      Comps    low           No  23.000000      agegrp2\n",
            "7           8      Comps    high          No  24.000000      agegrp2\n",
            "8           9         IT    high         Yes  21.285714          NaN\n",
            "9          10       AIDS     low         Yes  23.000000      agegrp2\n"
          ]
        }
      ]
    },
    {
      "cell_type": "code",
      "source": [
        "# Bar chart\n",
        "import matplotlib.pyplot as plt\n"
      ],
      "metadata": {
        "id": "knMRgXVuy6eB"
      },
      "execution_count": 11,
      "outputs": []
    },
    {
      "cell_type": "code",
      "source": [
        "plt.figure(figsize = (6,6))\n",
        "plt.bar(df['Marks'] , df['Department'] , color = \"yellow\")\n",
        "plt.xlabel(\"Marks\")\n",
        "plt.ylabel(\"Department\")\n",
        "plt.tight_layout()\n",
        "plt.show()"
      ],
      "metadata": {
        "colab": {
          "base_uri": "https://localhost:8080/",
          "height": 607
        },
        "id": "QdsuCLkI0sxX",
        "outputId": "138621aa-70a4-4f26-dbc9-3cc555756eeb"
      },
      "execution_count": 12,
      "outputs": [
        {
          "output_type": "display_data",
          "data": {
            "text/plain": [
              "<Figure size 600x600 with 1 Axes>"
            ],
            "image/png": "[encoded data removed]"
          },
          "metadata": {}
        }
      ]
    },
    {
      "cell_type": "code",
      "source": [
        "# Scatter plot\n",
        "plt.figure(figsize = (6,6))\n",
        "plt.scatter(df['Marks'] , df['Department'] , color = \"yellow\")\n",
        "plt.xlabel(\"Marks\")\n",
        "plt.ylabel(\"Department\")\n",
        "plt.tight_layout()\n",
        "plt.show()"
      ],
      "metadata": {
        "colab": {
          "base_uri": "https://localhost:8080/",
          "height": 607
        },
        "id": "df3PD6p91Sik",
        "outputId": "59a8ec19-e220-43da-994f-846a143b511a"
      },
      "execution_count": 13,
      "outputs": [
        {
          "output_type": "display_data",
          "data": {
            "text/plain": [
              "<Figure size 600x600 with 1 Axes>"
            ],
            "image/png": "[encoded data removed]"
          },
          "metadata": {}
        }
      ]
    },
    {
      "cell_type": "code",
      "source": [
        "# Histogram\n",
        "plt.figure(figsize = (6,6))\n",
        "plt.hist(df['Marks'] , color = \"yellow\")\n",
        "plt.xlabel(\"Marks\")\n",
        "plt.ylabel(\"Frequency\")\n",
        "plt.tight_layout()\n",
        "plt.show()"
      ],
      "metadata": {
        "colab": {
          "base_uri": "https://localhost:8080/",
          "height": 607
        },
        "id": "gMwy4H1i1cSE",
        "outputId": "bed1fb7e-cc17-491b-c73f-e041e9be1fb4"
      },
      "execution_count": 15,
      "outputs": [
        {
          "output_type": "display_data",
          "data": {
            "text/plain": [
              "<Figure size 600x600 with 1 Axes>"
            ],
            "image/png": "[encoded data removed]"
          },
          "metadata": {}
        }
      ]
    },
    {
      "cell_type": "code",
      "source": [
        "# Boxplot\n"
      ],
      "metadata": {
        "id": "HTOnDezG1tTK"
      },
      "execution_count": null,
      "outputs": []
    }
  ]
}