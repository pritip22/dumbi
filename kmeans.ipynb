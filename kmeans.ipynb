{
  "nbformat": 4,
  "nbformat_minor": 0,
  "metadata": {
    "colab": {
      "provenance": [],
      "authorship_tag": "ABX9TyOwsZ4yO3idKT/9+r/huwvA",
      "include_colab_link": true
    },
    "kernelspec": {
      "name": "python3",
      "display_name": "Python 3"
    },
    "language_info": {
      "name": "python"
    }
  },
  "cells": [
    {
      "cell_type": "markdown",
      "metadata": {
        "id": "view-in-github",
        "colab_type": "text"
      },
      "source": [
        "<a href=\"https://colab.research.google.com/github/pritip22/dumbi/blob/main/kmeans.ipynb\" target=\"_parent\"><img src=\"https://colab.research.google.com/assets/colab-badge.svg\" alt=\"Open In Colab\"/></a>"
      ]
    },
    {
      "cell_type": "code",
      "execution_count": 5,
      "metadata": {
        "id": "pzDwZxeJvWRw"
      },
      "outputs": [],
      "source": [
        "from sklearn.cluster import KMeans\n",
        "import numpy as np\n",
        "from sklearn.metrics import pairwise_distances"
      ]
    },
    {
      "cell_type": "code",
      "source": [
        "# Sample data\n",
        "X = np.array([[1, 2], [5, 8], [1.5, 1.8], [8, 8], [1, 0.6], [9, 11]])\n",
        "\n",
        "# Define the number of clusters\n",
        "k = 2"
      ],
      "metadata": {
        "id": "Dd2yZbIzvaca"
      },
      "execution_count": 6,
      "outputs": []
    },
    {
      "cell_type": "code",
      "source": [
        "# Initialize KMeans object\n",
        "kmeans = KMeans(n_clusters=k)\n",
        "\n",
        "# Fit KMeans to the data\n",
        "kmeans.fit(X)\n",
        "\n",
        "# Get the cluster centroids\n",
        "centroids = kmeans.cluster_centers_\n",
        "\n",
        "# Get the cluster labels for each data point\n",
        "labels = kmeans.labels_\n",
        "\n",
        "# Calculate Euclidean distances\n",
        "distances = pairwise_distances(X, centroids, metric='euclidean')\n",
        "\n",
        "# Print distances\n",
        "print(\"Euclidean distances between each data point and the centroids:\")\n",
        "for i, row in enumerate(distances):\n",
        "    print(f\"Data point {i+1}:\", row)\n",
        "\n",
        "# Print the cluster centroids and labels\n",
        "print(\"Cluster centroids:\")\n",
        "print(centroids)\n",
        "print(\"\\nCluster labels:\")\n",
        "print(labels)"
      ],
      "metadata": {
        "colab": {
          "base_uri": "https://localhost:8080/"
        },
        "id": "aaPJViyovety",
        "outputId": "7aa143ba-653d-4187-98bf-ec666acb1b3e"
      },
      "execution_count": 7,
      "outputs": [
        {
          "output_type": "stream",
          "name": "stdout",
          "text": [
            "Euclidean distances between each data point and the centroids:\n",
            "Data point 1: [0.55876849 9.43986817]\n",
            "Data point 2: [7.5748854  2.53859104]\n",
            "Data point 3: [0.47140452 9.26648681]\n",
            "Data point 4: [9.45404088 1.20185043]\n",
            "Data point 5: [ 0.88254682 10.5200338 ]\n",
            "Data point 6: [12.33878258  2.60341656]\n",
            "Cluster centroids:\n",
            "[[1.16666667 1.46666667]\n",
            " [7.33333333 9.        ]]\n",
            "\n",
            "Cluster labels:\n",
            "[0 1 0 1 0 1]\n"
          ]
        },
        {
          "output_type": "stream",
          "name": "stderr",
          "text": [
            "/usr/local/lib/python3.10/dist-packages/sklearn/cluster/_kmeans.py:870: FutureWarning: The default value of `n_init` will change from 10 to 'auto' in 1.4. Set the value of `n_init` explicitly to suppress the warning\n",
            "  warnings.warn(\n"
          ]
        }
      ]
    },
    {
      "cell_type": "code",
      "source": [],
      "metadata": {
        "id": "V9pRiTUOvg-D"
      },
      "execution_count": null,
      "outputs": []
    }
  ]
}