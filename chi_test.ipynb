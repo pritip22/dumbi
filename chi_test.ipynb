{
  "nbformat": 4,
  "nbformat_minor": 0,
  "metadata": {
    "colab": {
      "provenance": [],
      "authorship_tag": "ABX9TyN7iLwEyoUpwf+c17iAWq9R",
      "include_colab_link": true
    },
    "kernelspec": {
      "name": "python3",
      "display_name": "Python 3"
    },
    "language_info": {
      "name": "python"
    }
  },
  "cells": [
    {
      "cell_type": "markdown",
      "metadata": {
        "id": "view-in-github",
        "colab_type": "text"
      },
      "source": [
        "<a href=\"https://colab.research.google.com/github/pritip22/dumbi/blob/main/chi_test.ipynb\" target=\"_parent\"><img src=\"https://colab.research.google.com/assets/colab-badge.svg\" alt=\"Open In Colab\"/></a>"
      ]
    },
    {
      "cell_type": "code",
      "execution_count": 1,
      "metadata": {
        "id": "QJCv24iwqyAz"
      },
      "outputs": [],
      "source": [
        "import pandas as pd\n"
      ]
    },
    {
      "cell_type": "code",
      "source": [],
      "metadata": {
        "id": "VBrviM0ms-sp"
      },
      "execution_count": null,
      "outputs": []
    },
    {
      "cell_type": "code",
      "source": [
        "data = {\"Men\" : [400,300,700],\n",
        "        \"Women\": [600,120, 720],\n",
        "        \"Total\": [1000,420,1420]}\n",
        "\n",
        "index= ['Liking towards sport', 'Disliking towards sport', 'Total']\n",
        "obs_table = pd.DataFrame(data, index =index)\n",
        "print(obs_table)\n"
      ],
      "metadata": {
        "colab": {
          "base_uri": "https://localhost:8080/"
        },
        "id": "uB9WLNlrsUQq",
        "outputId": "fddad454-1398-42b7-d6ca-f661f9038e58"
      },
      "execution_count": 5,
      "outputs": [
        {
          "output_type": "stream",
          "name": "stdout",
          "text": [
            "                         Men  Women  Total\n",
            "Liking towards sport     400    600   1000\n",
            "Disliking towards sport  300    120    420\n",
            "Total                    700    720   1420\n"
          ]
        }
      ]
    },
    {
      "cell_type": "code",
      "source": [
        "# Calculate expected values\n",
        "\n",
        "exp_values = obs_table.copy()\n",
        "for i in range(len(index)-1):\n",
        "  for col in obs_table.columns[:-1]:\n",
        "    exp_values.at[index[i],col] = (obs_table.at[index [i], 'Total']*obs_table.at['Total',col]/ obs_table.at['Total','Total'])\n",
        "\n",
        "print(\"Expected values\")\n",
        "print(exp_values)"
      ],
      "metadata": {
        "colab": {
          "base_uri": "https://localhost:8080/"
        },
        "id": "3HhTAhR6tSYv",
        "outputId": "86545825-6dea-41e0-a240-d12608cb34b4"
      },
      "execution_count": 8,
      "outputs": [
        {
          "output_type": "stream",
          "name": "stdout",
          "text": [
            "Expected values\n",
            "                                Men       Women  Total\n",
            "Liking towards sport     492.957746  507.042254   1000\n",
            "Disliking towards sport  207.042254  212.957746    420\n",
            "Total                    700.000000  720.000000   1420\n"
          ]
        }
      ]
    },
    {
      "cell_type": "code",
      "source": [
        "# Calculate chi square value\n",
        "chi_cal = 0\n",
        "obs_value = [[400,300],[600,120]]\n",
        "for i in range(len(obs_value)):\n",
        "  for j in range(len(obs_value[0])):\n",
        "    observed = obs_value[i][j]\n",
        "    expected = exp_values.iloc[i,j]\n",
        "    chi_cal = chi_cal + ((observed - expected)**2 / expected)"
      ],
      "metadata": {
        "id": "Hhy2YxGpvERT"
      },
      "execution_count": 11,
      "outputs": []
    },
    {
      "cell_type": "code",
      "source": [
        "print(chi_cal)"
      ],
      "metadata": {
        "colab": {
          "base_uri": "https://localhost:8080/"
        },
        "id": "9pY8x8huvS4Q",
        "outputId": "2688abbc-5d3c-4d02-b82b-4739affd331b"
      },
      "execution_count": 12,
      "outputs": [
        {
          "output_type": "stream",
          "name": "stdout",
          "text": [
            "888.4659863945576\n"
          ]
        }
      ]
    },
    {
      "cell_type": "code",
      "source": [
        "r = len(obs_value)\n",
        "c = len(obs_value[0])\n",
        "dof = (r-1)*(c-1)\n",
        "print(dof)\n",
        "\n",
        "chi_given = 10.08\n",
        "\n",
        "if chi_given < chi_cal :\n",
        "  print(\"Reject null hypothesis\")\n",
        "else :\n",
        "  print(\"Accept hypothesis\")"
      ],
      "metadata": {
        "colab": {
          "base_uri": "https://localhost:8080/"
        },
        "id": "xLWR4WYxwEgm",
        "outputId": "9f04ab55-e1c4-4237-f87f-8569fbdfcf4a"
      },
      "execution_count": 13,
      "outputs": [
        {
          "output_type": "stream",
          "name": "stdout",
          "text": [
            "1\n",
            "Reject null hypothesis\n"
          ]
        }
      ]
    }
  ]
}